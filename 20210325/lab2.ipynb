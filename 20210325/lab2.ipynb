{
 "cells": [
  {
   "cell_type": "code",
   "execution_count": 3,
   "metadata": {},
   "outputs": [
    {
     "name": "stdout",
     "output_type": "stream",
     "text": [
      "[<h1> 태그의 콘텐츠] HTML의 링크 태그\n",
      "[텍스트 형식으로 내용을 가지고 있는 <a> 태그의 콘텐츠와 href 속성값]\n",
      "World Wide Consortium : http://www.w3.org/\n",
      "Java Page : http://java.sun.com/\n",
      "Python Page : http://www.python.org/\n",
      "Web Client 기술 학습 : http://www.w3schools.com/\n",
      "[<img> 태그의 src 속성값] http://unico2013.dothome.co.kr/image/duke.jpg\n",
      "[첫 번째 <h2> 태그의 콘텐츠] 좋아하는 색\n",
      "[<ul> 태그의 자식 태그들 중 style 속성의 값이 green으로 끝나는 태그의 콘텐츠] 녹색\n",
      "[두 번째 <h2> 태그의 콘텐츠] 먹고싶은 음식\n",
      "[<ol> 태그의 모든 자식 태그들의 콘텐츠]\n",
      "\n",
      "짜장면\n",
      "냉면\n",
      "돈까스\n",
      "갈비\n",
      "[<table> 태그의 모든 자손 태그들의 콘텐츠]\n",
      "\n",
      "None\n",
      "\n",
      "[<tr class=\"name\"><th>둘리</th><th>또치</th><th>도우너</th></tr>, <th>둘리</th>, <th>또치</th>, <th>도우너</th>, <tr><td>케라토사우루스</td><td>타조</td><td>외계인</td></tr>, <td>케라토사우루스</td>, <td>타조</td>, <td>외계인</td>, <tr><td>도봉구 쌍문동</td><td id=\"target\">아프리카</td><td>깐따삐아 별</td></tr>, <td>도봉구 쌍문동</td>, <td id=\"target\">아프리카</td>, <td>깐따삐아 별</td>]\n",
      "\n",
      "\n",
      "둘리또치도우너\n",
      "케라토사우루스타조외계인\n",
      "도봉구 쌍문동아프리카깐따삐아 별\n",
      "\n",
      "[name이라는 클래스 속성을 갖는 <tr> 태그의 콘텐츠] 둘리또치도우너\n",
      "[target이라는 아이디 속성을 갖는 <td> 태그의 콘텐츠] 아프리카\n"
     ]
    }
   ],
   "source": [
    "import requests\n",
    "from bs4 import BeautifulSoup\n",
    "import re\n",
    "\n",
    "r = requests.get('http://unico2013.dothome.co.kr/crawling/exercise_bs.html')\n",
    "r.encoding = 'utf-8'\n",
    "html = r.text\n",
    "bs = BeautifulSoup(html, 'html.parser')\n",
    "\n",
    "print(\"[<h1> 태그의 콘텐츠]\", bs.h1.string)\n",
    "list = bs.find_all('a', text=True)\n",
    "print(\"[텍스트 형식으로 내용을 가지고 있는 <a> 태그의 콘텐츠와 href 속성값]\")\n",
    "for i in range(len(list)):\n",
    "    print(list[i].string, ':', list[i].attrs['href'])\n",
    "print(\"[<img> 태그의 src 속성값]\", bs.img['src'])\n",
    "print(\"[첫 번째 <h2> 태그의 콘텐츠]\", bs.h2.string)\n",
    "print(\"[<ul> 태그의 자식 태그들 중 style 속성의 값이 green으로 끝나는 태그의 콘텐츠]\", bs.ul.find(style=re.compile('green$')).text)\n",
    "print(\"[두 번째 <h2> 태그의 콘텐츠]\", bs.find_all('h2')[1].string)\n",
    "list2 = bs.ol.find_all()\n",
    "print(\"[<ol> 태그의 모든 자식 태그들의 콘텐츠]\")\n",
    "print()\n",
    "for i in range(len(list2)):\n",
    "    print(list2[i].text)\n",
    "print(\"[<table> 태그의 모든 자손 태그들의 콘텐츠]\")\n",
    "print()\n",
    "print(bs.table.string)\n",
    "print()\n",
    "print(bs.table.find_all())\n",
    "print()\n",
    "for i in bs.table.find_all(text=True):\n",
    "    print(i.string, end=\"\")\n",
    "print()\n",
    "print(\"[name이라는 클래스 속성을 갖는 <tr> 태그의 콘텐츠]\", bs.find('tr', class_='name').text)\n",
    "print(\"[target이라는 아이디 속성을 갖는 <td> 태그의 콘텐츠]\", bs.find('td', id='target').text)"
   ]
  },
  {
   "cell_type": "code",
   "execution_count": null,
   "metadata": {},
   "outputs": [],
   "source": []
  }
 ],
 "metadata": {
  "kernelspec": {
   "display_name": "pydatavenv",
   "language": "python",
   "name": "pydatavenv"
  },
  "language_info": {
   "codemirror_mode": {
    "name": "ipython",
    "version": 3
   },
   "file_extension": ".py",
   "mimetype": "text/x-python",
   "name": "python",
   "nbconvert_exporter": "python",
   "pygments_lexer": "ipython3",
   "version": "3.8.8"
  }
 },
 "nbformat": 4,
 "nbformat_minor": 4
}
