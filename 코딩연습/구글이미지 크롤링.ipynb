{
 "cells": [
  {
   "cell_type": "code",
   "execution_count": null,
   "metadata": {},
   "outputs": [],
   "source": [
    "# anaconda 열고 conda activate pydatavenv 입력\n",
    "# pip install git+https://github.com/Joeclinton1/google-images-download.git 입력\n",
    "\n",
    "from google_images_download import google_images_download\n",
    "import os"
   ]
  },
  {
   "cell_type": "code",
   "execution_count": null,
   "metadata": {},
   "outputs": [],
   "source": [
    "# (1) 나무위키 연예인 목록에서 이름만 추출하여 리스트로 만들기\n",
    "\n",
    "f = open('연예인 목록.txt', 'r', encoding = 'UTF-8')  # 나무위키에서 크롤링한 연예인 이름 목록 text 파일을 불러옴\n",
    "names = []  # 빈 리스트 객체 생성\n",
    "lines = f.readlines()  # 연예인 이름 목록을 한 줄씩 읽어 리스트로 변환\n",
    "for line in lines:\n",
    "    name = line.split('→')  # 화살표를 기점으로 분리\n",
    "    name = name[0].strip()  # 빈칸 제거하여 이름만 추출\n",
    "    names.append(name)  # 추출한 이름을 리스트에 추가\n",
    "#print(names)\n",
    "print(len(names))  # 총 1440개의 이름"
   ]
  },
  {
   "cell_type": "code",
   "execution_count": null,
   "metadata": {},
   "outputs": [],
   "source": [
    "# (2) google_images_download 모듈을 사용하여 이미지파일 다운받기\n",
    "\n",
    "for name in names:\n",
    "    response = google_images_download.googleimagesdownload()\n",
    "    arguments = {'keywords': name, 'limit':50, 'print_urls': True}  # keyword는 검색어 - 여러개 동시에 가능. # limit는 개수, 최대 100개\n",
    "    paths = response.download(arguments)  # 생성한 딕셔너리를 download 객체에 인풋\n",
    "    print(paths)  # 컨텐츠 확인용"
   ]
  },
  {
   "cell_type": "code",
   "execution_count": null,
   "metadata": {},
   "outputs": [],
   "source": [
    "# (3) changeName 함수 만들어 파일 이름 변경하기\n",
    "\n",
    "def changeName(path, cName):  # 함수에 디렉토리와 이름을 전달하여 이름01, 이름02와 같이 변경\n",
    "    i = 1\n",
    "    for filename in os.listdir(path):\n",
    "        print(path+filename, '=>', path+str(cName)+str(i)+'.jpg')  # 변경사항 확인용\n",
    "        os.rename(path+filename, path+str(cName)+str(i)+'.jpg')\n",
    "        i += 1"
   ]
  }
 ],
 "metadata": {
  "kernelspec": {
   "display_name": "pydatavenv",
   "language": "python",
   "name": "pydatavenv"
  },
  "language_info": {
   "codemirror_mode": {
    "name": "ipython",
    "version": 3
   },
   "file_extension": ".py",
   "mimetype": "text/x-python",
   "name": "python",
   "nbconvert_exporter": "python",
   "pygments_lexer": "ipython3",
   "version": "3.8.8"
  }
 },
 "nbformat": 4,
 "nbformat_minor": 4
}
